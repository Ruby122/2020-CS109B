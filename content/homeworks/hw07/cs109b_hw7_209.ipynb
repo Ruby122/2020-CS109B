{
 "cells": [
  {
   "cell_type": "markdown",
   "metadata": {
    "colab_type": "text",
    "deletable": false,
    "editable": false,
    "id": "JdFUQNA5XUbn"
   },
   "source": [
    "# <img style=\"float: left; padding-right: 10px; width: 45px\" src=\"https://raw.githubusercontent.com/Harvard-IACS/2018-CS109A/master/content/styles/iacs.png\"> CS109B Data Science 2: Advanced Topics in Data Science \n",
    "\n",
    "## Homewor: Inference in NN \n",
    "\n",
    "**Harvard University**<br/>\n",
    "**Spring 2020**<br/>\n",
    "**Instructors:** Pavlos Protopapas, Mark Glickman, Chris Tanner<br/>\n",
    "\n",
    "<hr style=\"height:2pt\">"
   ]
  },
  {
   "cell_type": "code",
   "execution_count": 1,
   "metadata": {
    "colab": {
     "base_uri": "https://localhost:8080/",
     "height": 17
    },
    "colab_type": "code",
    "deletable": false,
    "editable": false,
    "id": "cKWDlL0JXUbs",
    "outputId": "642bd4a8-ebb6-415f-e935-337ee5ccaef6"
   },
   "outputs": [
    {
     "data": {
      "text/html": [
       "<style>\n",
       "blockquote { background: #AEDE94; }\n",
       "h1 { \n",
       "    padding-top: 25px;\n",
       "    padding-bottom: 25px;\n",
       "    text-align: left; \n",
       "    padding-left: 10px;\n",
       "    background-color: #DDDDDD; \n",
       "    color: black;\n",
       "}\n",
       "h2 { \n",
       "    padding-top: 10px;\n",
       "    padding-bottom: 10px;\n",
       "    text-align: left; \n",
       "    padding-left: 5px;\n",
       "    background-color: #EEEEEE; \n",
       "    color: black;\n",
       "}\n",
       "\n",
       "div.exercise {\n",
       "\tbackground-color: #ffcccc;\n",
       "\tborder-color: #E9967A; \t\n",
       "\tborder-left: 5px solid #800080; \n",
       "\tpadding: 0.5em;\n",
       "}\n",
       "\n",
       "span.sub-q {\n",
       "\tfont-weight: bold;\n",
       "}\n",
       "div.theme {\n",
       "\tbackground-color: #DDDDDD;\n",
       "\tborder-color: #E9967A; \t\n",
       "\tborder-left: 5px solid #800080; \n",
       "\tpadding: 0.5em;\n",
       "\tfont-size: 18pt;\n",
       "}\n",
       "div.gc { \n",
       "\tbackground-color: #AEDE94;\n",
       "\tborder-color: #E9967A; \t \n",
       "\tborder-left: 5px solid #800080; \n",
       "\tpadding: 0.5em;\n",
       "\tfont-size: 12pt;\n",
       "}\n",
       "p.q1 { \n",
       "    padding-top: 5px;\n",
       "    padding-bottom: 5px;\n",
       "    text-align: left; \n",
       "    padding-left: 5px;\n",
       "    background-color: #EEEEEE; \n",
       "    color: black;\n",
       "}\n",
       "header {\n",
       "   padding-top: 35px;\n",
       "    padding-bottom: 35px;\n",
       "    text-align: left; \n",
       "    padding-left: 10px;\n",
       "    background-color: #DDDDDD; \n",
       "    color: black;\n",
       "}\n",
       "</style>\n",
       "\n"
      ],
      "text/plain": [
       "<IPython.core.display.HTML object>"
      ]
     },
     "execution_count": 1,
     "metadata": {},
     "output_type": "execute_result"
    }
   ],
   "source": [
    "#RUN THIS CELL \n",
    "import requests\n",
    "from IPython.core.display import HTML\n",
    "styles = requests.get(\"https://raw.githubusercontent.com/Harvard-IACS/2018-CS109A/master/content/styles/cs109.css\").text\n",
    "HTML(styles)"
   ]
  },
  {
   "cell_type": "code",
   "execution_count": 2,
   "metadata": {
    "colab": {
     "base_uri": "https://localhost:8080/",
     "height": 17
    },
    "colab_type": "code",
    "deletable": false,
    "editable": false,
    "id": "cKWDlL0JXUbs",
    "outputId": "642bd4a8-ebb6-415f-e935-337ee5ccaef6"
   },
   "outputs": [],
   "source": [
    "#RUN THIS CELL\n",
    "import os\n",
    "import pathlib\n",
    "working_dir = pathlib.Path().absolute()\n",
    "os.chdir(working_dir)"
   ]
  },
  {
   "cell_type": "markdown",
   "metadata": {
    "deletable": false,
    "editable": false
   },
   "source": [
    "<hr style=\"height:2pt\">\n",
    "\n",
    "### INSTRUCTIONS\n",
    "\n",
    "- To submit your assignment follow the instructions given in Canvas.\n",
    "\n",
    "- This homework can be submitted in pairs.\n",
    "\n",
    "- Please restart the kernel and run the entire notebook again before you submit.\n",
    "\n",
    "<hr style=\"height:2pt\">"
   ]
  },
  {
   "cell_type": "code",
   "execution_count": 3,
   "metadata": {
    "colab": {
     "base_uri": "https://localhost:8080/",
     "height": 34
    },
    "colab_type": "code",
    "deletable": false,
    "editable": false,
    "id": "hakVc8z8aGmt",
    "outputId": "8ad99d3a-22a6-4509-a417-c679a16a50ca"
   },
   "outputs": [],
   "source": [
    "import numpy as np\n",
    "import pandas as pd\n",
    "import matplotlib.pyplot as plt\n",
    "import seaborn as sns\n",
    "# from sklearn.preprocessing import StandardScaler\n",
    "\n",
    "sns.set()\n",
    "\n",
    "import tensorflow as tf\n",
    "\n",
    "import tensorflow.keras.backend as K\n",
    "from tensorflow.keras import layers\n",
    "from tensorflow.keras.models import Sequential\n",
    "from tensorflow.keras.layers import Dense, Flatten\n",
    "from tensorflow.keras.callbacks import Callback, ModelCheckpoint, History \n",
    "from tensorflow.keras.wrappers.scikit_learn import KerasClassifier\n",
    "#from tensorflow.keras.utils import np_utils\n",
    "from tensorflow.keras.optimizers import SGD, Adam\n",
    "from tensorflow.keras.layers import Dropout\n",
    "from sklearn.model_selection import cross_val_score,  KFold, train_test_split, StratifiedKFold\n",
    "from sklearn.preprocessing import LabelEncoder, StandardScaler\n",
    "from sklearn.pipeline import Pipeline\n",
    "from sklearn.metrics import confusion_matrix\n",
    "from tensorflow.keras import optimizers\n",
    "\n",
    "from functools import partial\n",
    "\n",
    "np.random.seed(0)\n",
    "\n",
    "\n",
    "%matplotlib notebook\n",
    "%matplotlib inline"
   ]
  },
  {
   "cell_type": "markdown",
   "metadata": {
    "colab_type": "text",
    "deletable": false,
    "editable": false,
    "id": "rUkgUGwJXUcH"
   },
   "source": [
    "<div class=\"theme\"> Overview </div> \n",
    "\n",
    "In this homework, we will investigate methods for uncertainty quantification in deep neural networks. These are alternatives to the robust MCMC that doesn't scale to large models."
   ]
  },
  {
   "cell_type": "markdown",
   "metadata": {
    "colab_type": "text",
    "deletable": false,
    "id": "kX9cfAwWXUcL"
   },
   "source": [
    "<div class='exercise'><b> Question 1: Dropout as a Bayesian Approximation [10 pts] (Gal & Ghahramani 2015, https://arxiv.org/abs/1506.02142)</b></div>  \n",
    "\n",
    "For this question, we will be generate a synthetic dataset in order to be able to test different uncertainty regimes, we will train the model with a gap in the data. \n",
    "\n",
    "**1.1** [1 pt] Generate a synthetic two dimensional dataset using the function y = 0.1 * x^3 plus random noise (0, 0.25). Generate a training set of 200 points with no data in the range x=[-1,1]. Generate a test set of 80 data points with values uniformly distributed in the whole domain. Plot the two data sets.\n",
    "\n",
    "**1.2** [2 pts] Create a fully connected neural network with 3 layers of 20 nodes each. Include dropout (using the Dropout class provided) before the last layer. \n",
    "\n",
    "**1.3** [2 pts] Train the network with dropout of 0.1, do inference for all the test points 10 times in training mode. From the outputs, find the model mean and standard variation. Repeat with dropoout of 0.2.\n",
    "\n",
    "**1.4** [1 pt] Make a plot of the data, the model, and the uncertainty. Show the model mean and color the region of tow standard deviations.\n",
    "\n",
    "**1.5** [2 pts] Turn dropout off (set it to 0) and train 50 models bootstrapping the training data. Doing statistics on the outputs, make a plot of the data, the model, and the uncertainty. Show the model mean and color the region two standard deviations away, as in **1.3**\n",
    "\n",
    "**1.6** [2 pts] Compare both methods and discuss the pros and cons of each.\n",
    "\n"
   ]
  },
  {
   "cell_type": "markdown",
   "metadata": {
    "colab_type": "text",
    "deletable": false,
    "editable": false,
    "id": "hBtmANNuuS6h"
   },
   "source": [
    "## Answers"
   ]
  },
  {
   "cell_type": "markdown",
   "metadata": {
    "autograde": "1.1",
    "deletable": false,
    "editable": false
   },
   "source": [
    "**1.1** [1 pt] Generate a synthetic two dimensional dataset using the function y = 0.1 * x^3 plus random noise (0, 0.25). Generate a training set of 200 points with no data in the range x=[-1,1]. Generate a test set of 80 data points with values uniformly distributed in the whole domain. Plot the two data sets.\n"
   ]
  },
  {
   "cell_type": "code",
   "execution_count": 4,
   "metadata": {
    "deletable": false
   },
   "outputs": [],
   "source": [
    "def build_dataset(N, noise_std=0.25, is_test=True):\n",
    "    # your code here\n",
    "    if is_test:\n",
    "        X = np.random.random(size = N) * 8 - 4 # unif(-4,4)      \n",
    "    else:\n",
    "        choices = np.random.random(size = N)\n",
    "        N_small = sum(choices < 0.5)\n",
    "        N_large = N - N_small\n",
    "        X = np.concatenate((np.random.random(size = N_small) * 3 - 4, #unif(-4,-1)\n",
    "                     np.random.random(size = N_large) * 3 + 1)) #unif(1,4)\n",
    "        \n",
    "    Y = 0.1 * (X**3) + np.random.random(size = N)* noise_std\n",
    "    return(np.array((X,Y)).T)"
   ]
  },
  {
   "cell_type": "code",
   "execution_count": 5,
   "metadata": {
    "deletable": false
   },
   "outputs": [
    {
     "data": {
      "image/png": "[encoded data removed]",
      "text/plain": [
       "<Figure size 432x288 with 1 Axes>"
      ]
     },
     "metadata": {
      "needs_background": "light"
     },
     "output_type": "display_data"
    }
   ],
   "source": [
    "# your code here\n",
    "data_train = build_dataset(200, is_test = False)\n",
    "plt.scatter(data_train[:, 0], data_train[:, 1])\n",
    "plt.xlabel('X')\n",
    "plt.ylabel('Y')\n",
    "plt.title('train')\n",
    "plt.show()"
   ]
  },
  {
   "cell_type": "code",
   "execution_count": 6,
   "metadata": {},
   "outputs": [
    {
     "data": {
      "image/png": "[encoded data removed]",
      "text/plain": [
       "<Figure size 432x288 with 1 Axes>"
      ]
     },
     "metadata": {
      "needs_background": "light"
     },
     "output_type": "display_data"
    }
   ],
   "source": [
    "data_test = build_dataset(80)\n",
    "plt.scatter(data_test[:, 0], data_test[:, 1])\n",
    "plt.xlabel('X')\n",
    "plt.ylabel('Y')\n",
    "plt.title('test')\n",
    "plt.show()"
   ]
  },
  {
   "cell_type": "code",
   "execution_count": 7,
   "metadata": {
    "deletable": false
   },
   "outputs": [],
   "source": [
    "# your code here\n",
    "data_train = data_train.reshape(200, 2, -1)\n",
    "data_test = data_test.reshape(80, 2, -1)"
   ]
  },
  {
   "cell_type": "markdown",
   "metadata": {
    "autograde": "1.2",
    "deletable": false,
    "editable": false
   },
   "source": [
    "**1.2** [2 pts] Create a fully connected neural network with 3 layers of 20 nodes each. Include dropout (using the Dropout class provided) before the last layer.\n"
   ]
  },
  {
   "cell_type": "code",
   "execution_count": 8,
   "metadata": {
    "deletable": false,
    "editable": false
   },
   "outputs": [],
   "source": [
    "# https://github.com/keras-team/keras/issues/9412\n",
    "\n",
    "class Dropout(layers.Dropout):\n",
    "    \"\"\"Applies Dropout to the input.\n",
    "    Dropout consists in randomly setting\n",
    "    a fraction `rate` of input units to 0 at each update during training time,\n",
    "    which helps prevent overfitting.\n",
    "    # Arguments\n",
    "        rate: float between 0 and 1. Fraction of the input units to drop.\n",
    "        noise_shape: 1D integer tensor representing the shape of the\n",
    "            binary dropout mask that will be multiplied with the input.\n",
    "            For instance, if your inputs have shape\n",
    "            `(batch_size, timesteps, features)` and\n",
    "            you want the dropout mask to be the same for all timesteps,\n",
    "            you can use `noise_shape=(batch_size, 1, features)`.\n",
    "        seed: A Python integer to use as random seed.\n",
    "    # References\n",
    "        - [Dropout: A Simple Way to Prevent Neural Networks from Overfitting](\n",
    "           http://www.jmlr.org/papers/volume15/srivastava14a/srivastava14a.pdf)\n",
    "    \"\"\"\n",
    "    def __init__(self, rate, training=None, noise_shape=None, seed=None, **kwargs):\n",
    "        super(Dropout, self).__init__(rate, noise_shape=None, seed=None,**kwargs)\n",
    "        self.training = training\n",
    "\n",
    "        \n",
    "    def call(self, inputs, training=None):\n",
    "        if 0. < self.rate < 1.:\n",
    "            noise_shape = self._get_noise_shape(inputs)\n",
    "\n",
    "            def dropped_inputs():\n",
    "                return K.dropout(inputs, self.rate, noise_shape,\n",
    "                                 seed=self.seed)\n",
    "            if not training: \n",
    "                return K.in_train_phase(dropped_inputs, inputs, training=self.training)\n",
    "            return K.in_train_phase(dropped_inputs, inputs, training=training)\n",
    "        return inputs"
   ]
  },
  {
   "cell_type": "code",
   "execution_count": 9,
   "metadata": {
    "deletable": false
   },
   "outputs": [
    {
     "name": "stdout",
     "output_type": "stream",
     "text": [
      "Model: \"sequential\"\n",
      "_________________________________________________________________\n",
      "Layer (type)                 Output Shape              Param #   \n",
      "=================================================================\n",
      "dense (Dense)                (None, 20)                40        \n",
      "_________________________________________________________________\n",
      "dense_1 (Dense)              (None, 20)                420       \n",
      "_________________________________________________________________\n",
      "dense_2 (Dense)              (None, 20)                420       \n",
      "_________________________________________________________________\n",
      "dropout (Dropout)            (None, 20)                0         \n",
      "_________________________________________________________________\n",
      "dense_3 (Dense)              (None, 1)                 21        \n",
      "=================================================================\n",
      "Total params: 901\n",
      "Trainable params: 901\n",
      "Non-trainable params: 0\n",
      "_________________________________________________________________\n"
     ]
    }
   ],
   "source": [
    "# create model \n",
    "# your code here \n",
    "model = Sequential()\n",
    "model.add(Dense(20, activation = 'relu', input_shape = (1,)))\n",
    "model.add(Dense(20, activation = 'relu'))\n",
    "model.add(Dense(20, activation = 'relu'))\n",
    "model.add(Dropout(0.1, training = True))\n",
    "model.add(Dense(1, activation = 'linear'))\n",
    "model.compile(loss = 'mse', optimizer = Adam(lr = 0.002))\n",
    "model.summary()"
   ]
  },
  {
   "cell_type": "code",
   "execution_count": 10,
   "metadata": {
    "deletable": false
   },
   "outputs": [
    {
     "name": "stdout",
     "output_type": "stream",
     "text": [
      "Train on 200 samples, validate on 80 samples\n",
      "Epoch 1/50\n",
      "200/200 [==============================] - 2s 10ms/sample - loss: 6.6910 - val_loss: 4.2085\n",
      "Epoch 2/50\n",
      "200/200 [==============================] - 0s 587us/sample - loss: 5.4429 - val_loss: 3.2917\n",
      "Epoch 3/50\n",
      "200/200 [==============================] - 0s 573us/sample - loss: 4.4559 - val_loss: 2.5437\n",
      "Epoch 4/50\n",
      "200/200 [==============================] - 0s 538us/sample - loss: 3.5561 - val_loss: 1.8908\n",
      "Epoch 5/50\n",
      "200/200 [==============================] - 0s 502us/sample - loss: 2.5031 - val_loss: 1.4333\n",
      "Epoch 6/50\n",
      "200/200 [==============================] - 0s 514us/sample - loss: 1.8727 - val_loss: 1.5686\n",
      "Epoch 7/50\n",
      "200/200 [==============================] - 0s 502us/sample - loss: 1.6536 - val_loss: 1.3695\n",
      "Epoch 8/50\n",
      "200/200 [==============================] - 0s 492us/sample - loss: 1.5921 - val_loss: 0.9997\n",
      "Epoch 9/50\n",
      "200/200 [==============================] - 0s 553us/sample - loss: 1.3572 - val_loss: 1.1098\n",
      "Epoch 10/50\n",
      "200/200 [==============================] - 0s 483us/sample - loss: 1.5632 - val_loss: 0.8627\n",
      "Epoch 11/50\n",
      "200/200 [==============================] - 0s 584us/sample - loss: 1.3834 - val_loss: 0.8993\n",
      "Epoch 12/50\n",
      "200/200 [==============================] - 0s 507us/sample - loss: 1.3368 - val_loss: 1.0313\n",
      "Epoch 13/50\n",
      "200/200 [==============================] - 0s 602us/sample - loss: 1.5324 - val_loss: 0.8888\n",
      "Epoch 14/50\n",
      "200/200 [==============================] - 0s 508us/sample - loss: 1.3687 - val_loss: 0.9326\n",
      "Epoch 15/50\n",
      "200/200 [==============================] - 0s 557us/sample - loss: 1.5182 - val_loss: 1.0313\n",
      "Epoch 16/50\n",
      "200/200 [==============================] - 0s 544us/sample - loss: 1.1648 - val_loss: 0.9388\n",
      "Epoch 17/50\n",
      "200/200 [==============================] - 0s 492us/sample - loss: 1.2643 - val_loss: 0.9126\n",
      "Epoch 18/50\n",
      "200/200 [==============================] - 0s 504us/sample - loss: 1.1118 - val_loss: 0.8974\n",
      "Epoch 19/50\n",
      "200/200 [==============================] - 0s 493us/sample - loss: 1.1096 - val_loss: 0.8792\n",
      "Epoch 20/50\n",
      "200/200 [==============================] - 0s 555us/sample - loss: 1.0644 - val_loss: 0.8045\n",
      "Epoch 21/50\n",
      "200/200 [==============================] - 0s 584us/sample - loss: 0.9835 - val_loss: 0.7554\n",
      "Epoch 22/50\n",
      "200/200 [==============================] - 0s 514us/sample - loss: 0.9899 - val_loss: 0.8204\n",
      "Epoch 23/50\n",
      "200/200 [==============================] - 0s 480us/sample - loss: 0.9840 - val_loss: 0.7531\n",
      "Epoch 24/50\n",
      "200/200 [==============================] - 0s 627us/sample - loss: 1.1161 - val_loss: 0.6686\n",
      "Epoch 25/50\n",
      "200/200 [==============================] - 0s 608us/sample - loss: 0.9229 - val_loss: 0.5190\n",
      "Epoch 26/50\n",
      "200/200 [==============================] - 0s 526us/sample - loss: 0.9627 - val_loss: 0.4468\n",
      "Epoch 27/50\n",
      "200/200 [==============================] - 0s 595us/sample - loss: 0.8511 - val_loss: 0.4526\n",
      "Epoch 28/50\n",
      "200/200 [==============================] - 0s 489us/sample - loss: 0.8773 - val_loss: 0.6732\n",
      "Epoch 29/50\n",
      "200/200 [==============================] - 0s 591us/sample - loss: 1.2724 - val_loss: 0.4480\n",
      "Epoch 30/50\n",
      "200/200 [==============================] - 0s 571us/sample - loss: 0.6849 - val_loss: 0.7564\n",
      "Epoch 31/50\n",
      "200/200 [==============================] - 0s 650us/sample - loss: 0.5925 - val_loss: 0.3948\n",
      "Epoch 32/50\n",
      "200/200 [==============================] - 0s 490us/sample - loss: 0.5344 - val_loss: 0.4343\n",
      "Epoch 33/50\n",
      "200/200 [==============================] - 0s 487us/sample - loss: 0.6303 - val_loss: 0.7287\n",
      "Epoch 34/50\n",
      "200/200 [==============================] - 0s 519us/sample - loss: 0.5145 - val_loss: 0.3232\n",
      "Epoch 35/50\n",
      "200/200 [==============================] - 0s 504us/sample - loss: 0.5753 - val_loss: 0.2352\n",
      "Epoch 36/50\n",
      "200/200 [==============================] - 0s 558us/sample - loss: 0.5263 - val_loss: 0.2592\n",
      "Epoch 37/50\n",
      "200/200 [==============================] - 0s 504us/sample - loss: 0.4558 - val_loss: 0.3131\n",
      "Epoch 38/50\n",
      "200/200 [==============================] - 0s 482us/sample - loss: 0.5005 - val_loss: 0.4149\n",
      "Epoch 39/50\n",
      "200/200 [==============================] - 0s 582us/sample - loss: 0.4385 - val_loss: 0.3293\n",
      "Epoch 40/50\n",
      "200/200 [==============================] - 0s 587us/sample - loss: 0.5428 - val_loss: 0.2195\n",
      "Epoch 41/50\n",
      "200/200 [==============================] - 0s 586us/sample - loss: 0.3671 - val_loss: 0.3307\n",
      "Epoch 42/50\n",
      "200/200 [==============================] - 0s 584us/sample - loss: 0.3285 - val_loss: 0.1524\n",
      "Epoch 43/50\n",
      "200/200 [==============================] - 0s 527us/sample - loss: 0.3437 - val_loss: 0.2204\n",
      "Epoch 44/50\n",
      "200/200 [==============================] - 0s 488us/sample - loss: 0.3623 - val_loss: 0.1999\n",
      "Epoch 45/50\n",
      "200/200 [==============================] - 0s 808us/sample - loss: 0.4272 - val_loss: 0.2433\n",
      "Epoch 46/50\n",
      "200/200 [==============================] - 0s 704us/sample - loss: 0.4269 - val_loss: 0.2305\n",
      "Epoch 47/50\n",
      "200/200 [==============================] - 0s 702us/sample - loss: 0.3641 - val_loss: 0.2744\n",
      "Epoch 48/50\n",
      "200/200 [==============================] - 0s 509us/sample - loss: 0.4143 - val_loss: 0.1784\n",
      "Epoch 49/50\n",
      "200/200 [==============================] - 0s 585us/sample - loss: 0.3671 - val_loss: 0.3683\n",
      "Epoch 50/50\n",
      "200/200 [==============================] - 0s 621us/sample - loss: 0.3725 - val_loss: 0.1773\n"
     ]
    },
    {
     "data": {
      "text/plain": [
       "<tensorflow.python.keras.callbacks.History at 0x1a45798e48>"
      ]
     },
     "execution_count": 10,
     "metadata": {},
     "output_type": "execute_result"
    }
   ],
   "source": [
    "# Fit the model\n",
    "# your code here\n",
    "model.fit(x = data_train[:, 0],\n",
    "          y = data_train[:, 1],\n",
    "          batch_size = 32,\n",
    "          validation_data = (data_test[:, 0], data_test[:, 1]),\n",
    "          epochs = 50)"
   ]
  },
  {
   "cell_type": "code",
   "execution_count": 11,
   "metadata": {
    "deletable": false
   },
   "outputs": [],
   "source": [
    "# evaluate the training and testing performance of your model \n",
    "# your code here\n",
    "train_pred = model.predict(data_train[:, 0]).flatten()\n",
    "test_pred = model.predict(data_test[:, 0]).flatten()"
   ]
  },
  {
   "cell_type": "code",
   "execution_count": 12,
   "metadata": {
    "deletable": false
   },
   "outputs": [
    {
     "data": {
      "image/png": "[encoded data removed]",
      "text/plain": [
       "<Figure size 720x288 with 2 Axes>"
      ]
     },
     "metadata": {
      "needs_background": "light"
     },
     "output_type": "display_data"
    }
   ],
   "source": [
    "# plot \n",
    "# your code here \n",
    "# sort data\n",
    "x_train_order = np.argsort(data_train[:, 0].flatten())\n",
    "x_test_order = np.argsort(data_test[:, 0].flatten())\n",
    "\n",
    "x_train = data_train[:, 0].flatten()[x_train_order]\n",
    "x_test = data_test[:, 0].flatten()[x_test_order]\n",
    "y_train = data_train[:, 1].flatten()[x_train_order]\n",
    "y_test = data_test[:, 1].flatten()[x_test_order]\n",
    "# plot\n",
    "plt.figure(figsize=(10,4))\n",
    "plt.subplot(121)\n",
    "plt.scatter(x_train, y_train, label = 'train')\n",
    "plt.scatter(x_train, train_pred[x_train_order], alpha = 0.5, label = 'train_pred')\n",
    "plt.xlabel('X')\n",
    "plt.ylabel('Y')\n",
    "plt.title('train data prediction', size = 14)\n",
    "plt.legend()\n",
    "\n",
    "plt.subplot(122)\n",
    "plt.scatter(x_test, y_test, label = 'test')\n",
    "plt.scatter(x_test, test_pred[x_test_order], alpha = 0.5, label = 'test_pred')\n",
    "plt.xlabel('X')\n",
    "plt.ylabel('Y')\n",
    "plt.title('test data prediction', size = 14)\n",
    "plt.legend()\n",
    "plt.show()"
   ]
  },
  {
   "cell_type": "markdown",
   "metadata": {
    "autograde": "1.3",
    "deletable": false,
    "editable": false
   },
   "source": [
    "**1.3** [2 pts] Train the network with dropout of 0.1, do inference for all the test points 10 times in training mode. From the outputs, find the model mean and standard variation. Repeat with dropoout of 0.2.\n"
   ]
  },
  {
   "cell_type": "code",
   "execution_count": 21,
   "metadata": {
    "deletable": false
   },
   "outputs": [],
   "source": [
    "# your code here\n",
    "model1 = Sequential()\n",
    "model1.add(Dense(20, activation = 'relu', input_shape = (1,)))\n",
    "model1.add(Dense(20, activation = 'relu'))\n",
    "model1.add(Dense(20, activation = 'relu'))\n",
    "model1.add(Dropout(0.1, training = True))\n",
    "model1.add(Dense(1, activation = 'linear'))\n",
    "model1.compile(loss = 'mse', optimizer = Adam(lr = 0.002))\n",
    "# train\n",
    "model1.fit(x = data_train[:, 0],\n",
    "          y = data_train[:, 1],\n",
    "          batch_size = 32,\n",
    "          validation_data = (data_test[:, 0], data_test[:, 1]),\n",
    "          epochs = 50,\n",
    "          verbose = False)\n",
    "# predict 10 times\n",
    "test_pred = []\n",
    "for i in range(10):\n",
    "    test_pred.append(model1.predict(data_test[:, 0]))\n",
    "test_all = np.concatenate(test_pred, axis = 1)\n",
    "# mean and variance\n",
    "model1_mean = np.mean(test_all, axis = 1)\n",
    "model1_sd = np.std(test_all, axis = 1)"
   ]
  },
  {
   "cell_type": "code",
   "execution_count": 23,
   "metadata": {
    "deletable": false
   },
   "outputs": [],
   "source": [
    "# your code here\n",
    "model2 = Sequential()\n",
    "model2.add(Dense(20, activation = 'relu', input_shape = (1,)))\n",
    "model2.add(Dense(20, activation = 'relu'))\n",
    "model2.add(Dense(20, activation = 'relu'))\n",
    "model2.add(Dropout(0.2, training = True))\n",
    "model2.add(Dense(1, activation = 'linear'))\n",
    "model2.compile(loss = 'mse', optimizer = Adam(lr = 0.002))\n",
    "# train\n",
    "model2.fit(x = data_train[:, 0],\n",
    "          y = data_train[:, 1],\n",
    "          batch_size = 32,\n",
    "          validation_data = (data_test[:, 0], data_test[:, 1]),\n",
    "          epochs = 50,\n",
    "          verbose = False)\n",
    "# predict 10 times\n",
    "test_pred = []\n",
    "for i in range(10):\n",
    "    test_pred.append(model2.predict(data_test[:, 0]))\n",
    "test_all = np.concatenate(test_pred, axis = 1)\n",
    "# mean and variance\n",
    "model2_mean = np.mean(test_all, axis = 1)\n",
    "model2_sd = np.std(test_all, axis = 1)"
   ]
  },
  {
   "cell_type": "markdown",
   "metadata": {
    "autograde": "1.4",
    "deletable": false,
    "editable": false
   },
   "source": [
    "**1.4** [1 pt] Make a plot of the data, the model, and the uncertainty. Show the model mean and color the region of tow standard deviations.\n"
   ]
  },
  {
   "cell_type": "code",
   "execution_count": 24,
   "metadata": {
    "deletable": false
   },
   "outputs": [
    {
     "data": {
      "image/png": "[encoded data removed]",
      "text/plain": [
       "<Figure size 864x360 with 2 Axes>"
      ]
     },
     "metadata": {
      "needs_background": "light"
     },
     "output_type": "display_data"
    }
   ],
   "source": [
    "# plot \n",
    "# your code here\n",
    "# sort prediction data\n",
    "model1_test_mean = model1_mean[x_test_order]\n",
    "model1_test_sd  = model1_sd[x_test_order]\n",
    "model2_test_mean =model2_mean[x_test_order]\n",
    "model2_test_sd  = model2_sd[x_test_order]\n",
    "# plot\n",
    "plt.figure(figsize=(12,5))\n",
    "plt.subplot(121)\n",
    "plt.plot(x_test, y_test, label = 'data')\n",
    "plt.plot(x_test, model1_test_mean, label = 'model_mean')\n",
    "plt.fill_between(x_test, model1_test_mean - 1 * model1_test_sd, \n",
    "                 model1_test_mean + 1 * model1_test_sd,\n",
    "                 color='gray', alpha=0.4)\n",
    "plt.xlabel('X')\n",
    "plt.ylabel('Y')\n",
    "plt.legend()\n",
    "plt.title('Dropout rate = 0.1', size = 14)\n",
    "\n",
    "plt.subplot(122)\n",
    "plt.plot(x_test, y_test, label = 'data')\n",
    "plt.plot(x_test, model2_test_mean, label = 'model_mean')\n",
    "plt.fill_between(x_test, model2_test_mean - 1 * model2_test_sd, \n",
    "                 model2_test_mean + 1 * model2_test_sd,\n",
    "                 color='gray', alpha=0.4)\n",
    "plt.xlabel('X')\n",
    "plt.ylabel('Y')\n",
    "plt.title('Dropout rate = 0.2', size = 14)\n",
    "plt.legend()\n",
    "plt.show()"
   ]
  },
  {
   "cell_type": "markdown",
   "metadata": {
    "autograde": "1.5",
    "deletable": false,
    "editable": false
   },
   "source": [
    "**1.5** [2 pts] Turn dropout off (set it to 0) and train 50 models bootstrapping the training data. Doing statistics on the outputs, make a plot of the data, the model, and the uncertainty. Show the model mean and color the region tow standard deviations away, as in **1.3**\n"
   ]
  },
  {
   "cell_type": "code",
   "execution_count": 16,
   "metadata": {
    "deletable": false
   },
   "outputs": [],
   "source": [
    "# define model \n",
    "# your code here \n",
    "model3 = Sequential()\n",
    "model3.add(Dense(20, activation = 'relu', input_shape = (1,)))\n",
    "model3.add(Dense(20, activation = 'relu'))\n",
    "model3.add(Dense(20, activation = 'relu'))\n",
    "model3.add(Dropout(0, training = True))\n",
    "model3.add(Dense(1, activation = 'linear'))\n",
    "model3.compile(loss = 'mse', optimizer = 'adam')"
   ]
  },
  {
   "cell_type": "code",
   "execution_count": 17,
   "metadata": {
    "deletable": false,
    "editable": false
   },
   "outputs": [],
   "source": [
    "# you may need this \n",
    "# from https://github.com/keras-team/keras/issues/341#issuecomment-438347068\n",
    "\n",
    "def reset_weights(model):\n",
    "    for layer in model.layers: \n",
    "        if isinstance(layer, tf.keras.Model):\n",
    "            reset_weights(layer)\n",
    "            continue\n",
    "    for k, initializer in layer.__dict__.items():\n",
    "        if \"initializer\" not in k:\n",
    "            continue\n",
    "        # find the corresponding variable\n",
    "        var = getattr(layer, k.replace(\"_initializer\", \"\"))\n",
    "        var.assign(initializer(var.shape, var.dtype))"
   ]
  },
  {
   "cell_type": "code",
   "execution_count": 18,
   "metadata": {
    "deletable": false
   },
   "outputs": [],
   "source": [
    "# Bootstrap and run model \n",
    "# your code here \n",
    "boot_test_pred = []\n",
    "for i in range(50):\n",
    "    # bootstrap\n",
    "    idx = np.random.choice(range(200), size = 200, replace = 'True')\n",
    "    bootstrap_train_data = data_train[idx, :]\n",
    "    # fit\n",
    "    model3.fit(x = bootstrap_train_data[:, 0],\n",
    "          y = bootstrap_train_data[:, 1],\n",
    "          batch_size = 32,\n",
    "          validation_data = (data_test[:, 0], data_test[:, 1]),\n",
    "          epochs = 50,\n",
    "          verbose = False)\n",
    "    # predict\n",
    "    boot_test_pred.append(model3.predict(data_test[:, 0]))\n",
    "    # reset weight\n",
    "    reset_weights(model3)"
   ]
  },
  {
   "cell_type": "code",
   "execution_count": 19,
   "metadata": {
    "deletable": false
   },
   "outputs": [],
   "source": [
    "# your code here \n",
    "boot_test_all = np.concatenate(boot_test_pred, axis = 1)\n",
    "# mean and variance\n",
    "model3_mean = np.mean(boot_test_all, axis = 1)\n",
    "model3_sd = np.std(boot_test_all, axis = 1)"
   ]
  },
  {
   "cell_type": "code",
   "execution_count": null,
   "metadata": {
    "deletable": false,
    "editable": false
   },
   "outputs": [],
   "source": []
  },
  {
   "cell_type": "code",
   "execution_count": 20,
   "metadata": {
    "deletable": false
   },
   "outputs": [
    {
     "data": {
      "image/png": "[encoded data removed]",
      "text/plain": [
       "<Figure size 432x288 with 1 Axes>"
      ]
     },
     "metadata": {
      "needs_background": "light"
     },
     "output_type": "display_data"
    }
   ],
   "source": [
    "# plot \n",
    "# your code here \n",
    "model3_test_mean =model3_mean[x_test_order]\n",
    "model3_test_sd  = model3_sd[x_test_order]\n",
    "\n",
    "plt.plot(x_test, y_test, label = 'data')\n",
    "plt.plot(x_test, model3_test_mean, label = 'model_mean')\n",
    "plt.fill_between(x_test, model3_test_mean - model3_test_sd, \n",
    "                 model3_test_mean + model3_test_sd,\n",
    "                 color='gray', alpha=0.4)\n",
    "plt.xlabel('X')\n",
    "plt.ylabel('Y')\n",
    "plt.title('Dropout rate = 0', size = 14)\n",
    "plt.legend()\n",
    "plt.show()"
   ]
  },
  {
   "cell_type": "markdown",
   "metadata": {
    "autograde": "1.6",
    "deletable": false
   },
   "source": [
    "**1.6** [2 pts] Compare both methods and discuss the pros and cons of each.\n"
   ]
  },
  {
   "cell_type": "markdown",
   "metadata": {
    "deletable": false
   },
   "source": [
    "*Your answer here*\n",
    "\n",
    "Dropout as a bayesian approximation:\n",
    "\n",
    "- pros: computationally cheap as we fit one model and predict multiple times\n",
    "- cons: underestimate variance severely, as we have the same training data for the model and drop part of the structure. This does not fully capture the uncertainty of training data.\n",
    "\n",
    "bootstrap \n",
    "\n",
    "- pros: do not underestimate variance as we create different training data and get 'all' possible model structures to get distributions of predictions, so we capture uncertainty in training data and model structures\n",
    "- cons: computationally expensive as we create multiple models"
   ]
  },
  {
   "cell_type": "code",
   "execution_count": null,
   "metadata": {
    "deletable": false,
    "editable": false
   },
   "outputs": [],
   "source": []
  }
 ],
 "metadata": {
  "accelerator": "GPU",
  "colab": {
   "name": "cs109b-hw3_finalDraft.ipynb",
   "provenance": [],
   "version": "0.3.2"
  },
  "kernelspec": {
   "display_name": "Python 3",
   "language": "python",
   "name": "python3"
  },
  "language_info": {
   "codemirror_mode": {
    "name": "ipython",
    "version": 3
   },
   "file_extension": ".py",
   "mimetype": "text/x-python",
   "name": "python",
   "nbconvert_exporter": "python",
   "pygments_lexer": "ipython3",
   "version": "3.6.8"
  },
  "toc": {
   "base_numbering": 1,
   "nav_menu": {},
   "number_sections": true,
   "sideBar": true,
   "skip_h1_title": false,
   "title_cell": "Table of Contents",
   "title_sidebar": "Contents",
   "toc_cell": false,
   "toc_position": {},
   "toc_section_display": true,
   "toc_window_display": false
  }
 },
 "nbformat": 4,
 "nbformat_minor": 4
}
